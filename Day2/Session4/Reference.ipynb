{
 "cells": [
  {
   "cell_type": "markdown",
   "metadata": {},
   "source": [
    "# Session 4 - More Functions and Print Statements\n"
   ]
  },
  {
   "cell_type": "markdown",
   "metadata": {},
   "source": [
    "For this session we will be using an analogue temperature sensor connected to pin A0 of the Arduino.\n",
    "\n",
    "| Code | Description |\n",
    "| :-- | :-- |\n",
    "| `Serial.begin(9600)` |  |\n",
    "| `Serial.println(\"Hi!\")` |  |\n",
    "| `Serial.print(\"Hi!\")` |  |\n",
    "| `log(4.0)` | Calculate the log of 4 |\n",
    "| `value++` | Increment an integer `value` by 1. |\n",
    "| `value--` | Decrement an integer  `value` by 1. |\n",
    "| `int meas = analogRead(3)` | Get a measurement from the analog channel `3` |\n",
    "\n"
   ]
  }
 ],
 "metadata": {
  "kernelspec": {
   "display_name": "Python 3",
   "language": "python",
   "name": "python3"
  },
  "language_info": {
   "codemirror_mode": {
    "name": "ipython",
    "version": 3
   },
   "file_extension": ".py",
   "mimetype": "text/x-python",
   "name": "python",
   "nbconvert_exporter": "python",
   "pygments_lexer": "ipython3",
   "version": "3.8.8"
  }
 },
 "nbformat": 4,
 "nbformat_minor": 2
}
